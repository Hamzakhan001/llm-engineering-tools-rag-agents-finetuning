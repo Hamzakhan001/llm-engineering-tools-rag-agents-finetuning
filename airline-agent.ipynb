{
 "cells": [
  {
   "cell_type": "code",
   "execution_count": 2,
   "id": "cd675042-96c7-4e4c-aaf1-64930c04f0f1",
   "metadata": {},
   "outputs": [],
   "source": [
    "import os\n",
    "import json\n",
    "from dotenv import load_dotenv\n",
    "from openai import OpenAI\n",
    "import gradio as gr"
   ]
  },
  {
   "cell_type": "code",
   "execution_count": 4,
   "id": "fcfb8a27-196a-4bca-b10d-870f2e4023d5",
   "metadata": {},
   "outputs": [],
   "source": [
    "load_dotenv(override=True)\n",
    "open_ai_api_key = os.getenv('OPENAI_API_KEY')"
   ]
  },
  {
   "cell_type": "code",
   "execution_count": 5,
   "id": "b04842f2-cd80-4f51-a875-9006152331b7",
   "metadata": {},
   "outputs": [],
   "source": [
    "Model = \"gpt-4o-mini\"\n",
    "openai= OpenAI()"
   ]
  },
  {
   "cell_type": "code",
   "execution_count": 6,
   "id": "415769df-6e71-4da5-9c3a-485522368aad",
   "metadata": {},
   "outputs": [],
   "source": [
    "system_message=\"You are a helpful assistant for FlightAI airline company\"\n",
    "system_message += \"Give short and concise answers to questions\"\n",
    "system_message += \"If you don't know the answer just say I dont know\""
   ]
  },
  {
   "cell_type": "code",
   "execution_count": 10,
   "id": "b5c64cf3-2987-4505-bab8-bce94205ad7d",
   "metadata": {},
   "outputs": [
    {
     "name": "stdout",
     "output_type": "stream",
     "text": [
      "* Running on local URL:  http://127.0.0.1:7861\n",
      "* To create a public link, set `share=True` in `launch()`.\n"
     ]
    },
    {
     "data": {
      "text/html": [
       "<div><iframe src=\"http://127.0.0.1:7861/\" width=\"100%\" height=\"500\" allow=\"autoplay; camera; microphone; clipboard-read; clipboard-write;\" frameborder=\"0\" allowfullscreen></iframe></div>"
      ],
      "text/plain": [
       "<IPython.core.display.HTML object>"
      ]
     },
     "metadata": {},
     "output_type": "display_data"
    },
    {
     "data": {
      "text/plain": []
     },
     "execution_count": 10,
     "metadata": {},
     "output_type": "execute_result"
    }
   ],
   "source": [
    "def chat(message,history):\n",
    "    messages = [{\"role\":\"system\",\"content\":system_message}] + history+ [{\"role\":\"user\",\"content\":message}]\n",
    "    response = openai.chat.completions.create(model=Model,messages=messages)\n",
    "    return response.choices[0].message.content\n",
    "\n",
    "gr.ChatInterface(fn=chat, type=\"messages\").launch() "
   ]
  },
  {
   "cell_type": "markdown",
   "id": "a3ef1aa1-2b6a-4e3d-b10f-dfde04bfe038",
   "metadata": {},
   "source": [
    "Tools:\n",
    "\n",
    "Tools are functions/objects that allows the LLMs to utilize external sources of information and perform tasks i.e. searching latest info, performing a task based on some information etc"
   ]
  },
  {
   "cell_type": "code",
   "execution_count": 16,
   "id": "6cd44891-7a15-44d6-b344-dfdb169f8aff",
   "metadata": {},
   "outputs": [],
   "source": [
    "ticket_prices = {\"london\":\"$1000\", \"tokyo\":\"$550\" , \"newyork\":\"$799\"}\n",
    "\n",
    "def get_ticket_price(destination):\n",
    "    city=destination.lower()\n",
    "    return ticket_prices.get(city,\"Unkown\")"
   ]
  },
  {
   "cell_type": "code",
   "execution_count": 17,
   "id": "d39f77d3-45bc-4668-857d-b6db388c9429",
   "metadata": {},
   "outputs": [
    {
     "data": {
      "text/plain": [
       "'$799'"
      ]
     },
     "execution_count": 17,
     "metadata": {},
     "output_type": "execute_result"
    }
   ],
   "source": [
    "get_ticket_price(\"newyork\")\n"
   ]
  },
  {
   "cell_type": "code",
   "execution_count": 23,
   "id": "42218a59-a2c2-4d72-95cd-74c480d89a71",
   "metadata": {},
   "outputs": [],
   "source": [
    "price_function = {\n",
    "    \"name\":\"get_ticket_price\",\n",
    "    \"description\":\"Get the price of a return ticket to the destination city. Call this whenever you need to know the ticket price, for example when a customer asks 'How much is a ticket to this city'\",\n",
    "    \"parameters\":{\n",
    "    \"type\":\"object\",\n",
    "    \"properties\":{\n",
    "        \"destination\":{\n",
    "            \"type\":\"string\",\n",
    "            \"description\":\"city the customer wants to travel to\",\n",
    "        },\n",
    "    },\n",
    "    \"required\": [\"destination_city\"],\n",
    "        \"additionalProperties\": False\n",
    "    \n",
    "}\n",
    "\n",
    "}\n"
   ]
  },
  {
   "cell_type": "code",
   "execution_count": 24,
   "id": "1c919b58-7e8a-455e-b0bb-467179cd13d6",
   "metadata": {},
   "outputs": [],
   "source": [
    "tools = [{\"type\": \"function\", \"function\": price_function}]"
   ]
  },
  {
   "cell_type": "code",
   "execution_count": 26,
   "id": "4be1a457-328c-462d-b502-a5fbeac1ce0a",
   "metadata": {},
   "outputs": [],
   "source": [
    "def chat(message,history):\n",
    "    messages = [{\"role\":\"system\",\"content\": system_message}]+history+[{\"role\":\"user\",\"content\":message}]\n",
    "    response = openai.chat.completions.create(model=Model,messages=messages,tools=tools)\n",
    "\n",
    "    if response.choices[0].finish_reason == \"tool_calls\":\n",
    "        message=response.choices[0].message\n",
    "        response,city = handle_tool_call(message)\n",
    "        messages.append(message)\n",
    "        messages.append(response)\n",
    "        response = openai.chat.completions.create(model=Model, messages=messages)\n",
    "\n",
    "    return response.choices[0].message.content"
   ]
  },
  {
   "cell_type": "code",
   "execution_count": 27,
   "id": "99638370-beaa-4b6b-9630-152f003d89c0",
   "metadata": {},
   "outputs": [],
   "source": [
    "def handle_tool_call(message):\n",
    "    tool_call = message.tool_calls[0]\n",
    "    arguments = json.loads(tool_call.function.arguments)\n",
    "    city = arguments.get('destination_city')\n",
    "    price = get_ticket_price(city)\n",
    "    response = {\n",
    "        \"role\": \"tool\",\n",
    "        \"content\": json.dumps({\"destination_city\": city,\"price\": price}),\n",
    "        \"tool_call_id\": tool_call.id\n",
    "    }\n",
    "    return response, city"
   ]
  },
  {
   "cell_type": "code",
   "execution_count": 28,
   "id": "4d718a18-3a51-4310-b387-4830fae3b70f",
   "metadata": {},
   "outputs": [
    {
     "name": "stdout",
     "output_type": "stream",
     "text": [
      "* Running on local URL:  http://127.0.0.1:7862\n",
      "* To create a public link, set `share=True` in `launch()`.\n"
     ]
    },
    {
     "data": {
      "text/html": [
       "<div><iframe src=\"http://127.0.0.1:7862/\" width=\"100%\" height=\"500\" allow=\"autoplay; camera; microphone; clipboard-read; clipboard-write;\" frameborder=\"0\" allowfullscreen></iframe></div>"
      ],
      "text/plain": [
       "<IPython.core.display.HTML object>"
      ]
     },
     "metadata": {},
     "output_type": "display_data"
    },
    {
     "data": {
      "text/plain": []
     },
     "execution_count": 28,
     "metadata": {},
     "output_type": "execute_result"
    }
   ],
   "source": [
    "gr.ChatInterface(fn=chat, type=\"messages\").launch()"
   ]
  },
  {
   "cell_type": "code",
   "execution_count": null,
   "id": "ae6398ef-8c19-4f49-824e-80942ccc6f78",
   "metadata": {},
   "outputs": [],
   "source": []
  }
 ],
 "metadata": {
  "kernelspec": {
   "display_name": "Python 3 (ipykernel)",
   "language": "python",
   "name": "python3"
  },
  "language_info": {
   "codemirror_mode": {
    "name": "ipython",
    "version": 3
   },
   "file_extension": ".py",
   "mimetype": "text/x-python",
   "name": "python",
   "nbconvert_exporter": "python",
   "pygments_lexer": "ipython3",
   "version": "3.11.13"
  }
 },
 "nbformat": 4,
 "nbformat_minor": 5
}

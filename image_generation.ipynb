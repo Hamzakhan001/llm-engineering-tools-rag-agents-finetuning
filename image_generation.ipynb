{
 "cells": [
  {
   "cell_type": "code",
   "execution_count": 1,
   "id": "128e0f4f-2798-4f4a-a4a9-11d4e0be8882",
   "metadata": {},
   "outputs": [],
   "source": [
    "# Disregard the error that pip gives you when you run this - all should be well!\n",
    "\n",
    "!pip install -q diffusers transformers accelerate bitsandbytes datasets==3.6.0 fsspec==2023.9.2"
   ]
  },
  {
   "cell_type": "code",
   "execution_count": null,
   "id": "fa74c4eb-d5b7-4c7f-b545-28ba61cba457",
   "metadata": {},
   "outputs": [],
   "source": []
  }
 ],
 "metadata": {
  "kernelspec": {
   "display_name": "Python 3 (ipykernel)",
   "language": "python",
   "name": "python3"
  },
  "language_info": {
   "codemirror_mode": {
    "name": "ipython",
    "version": 3
   },
   "file_extension": ".py",
   "mimetype": "text/x-python",
   "name": "python",
   "nbconvert_exporter": "python",
   "pygments_lexer": "ipython3",
   "version": "3.11.13"
  }
 },
 "nbformat": 4,
 "nbformat_minor": 5
}
